{
  "nbformat": 4,
  "nbformat_minor": 0,
  "metadata": {
    "colab": {
      "name": "JSC270_Lab6_PartI.ipynb",
      "provenance": [],
      "collapsed_sections": [],
      "include_colab_link": true
    },
    "kernelspec": {
      "name": "python3",
      "display_name": "Python 3"
    }
  },
  "cells": [
    {
      "cell_type": "markdown",
      "metadata": {
        "id": "view-in-github",
        "colab_type": "text"
      },
      "source": [
        "<a href=\"https://colab.research.google.com/github/karimzakir02/JSC270_Lab6/blob/main/JSC270_Lab6_PartI.ipynb\" target=\"_parent\"><img src=\"https://colab.research.google.com/assets/colab-badge.svg\" alt=\"Open In Colab\"/></a>"
      ]
    },
    {
      "cell_type": "markdown",
      "metadata": {
        "id": "la-OFXyYIBOz"
      },
      "source": [
        "# JSC270 Lab 6 Part I: Intro to Numpy"
      ]
    },
    {
      "cell_type": "markdown",
      "metadata": {
        "id": "FycCT3vFIRUx"
      },
      "source": [
        "\n",
        "## Contents\n",
        "\n",
        "1. What is numpy?\n",
        "2. Creating and Reshaping Numpy arrays:\n",
        "  - From scratch\n",
        "  - From other python data types (pandas df)\n",
        "  - from external data (e.g csv files)\n",
        "  - From standard python functions\n",
        "3. Some basic operations:\n",
        "  - Add, subtract, multiply, divide\n",
        "  - mean, median, variance, sd\n",
        "  - Transpose, inverse, dot product\n",
        "4. Vectorization and Broadcasting\n",
        "5. Random number generation\n",
        "6. Linear regression example (time permitting)\n",
        "\n"
      ]
    },
    {
      "cell_type": "markdown",
      "metadata": {
        "id": "_tOClz7XEbQV"
      },
      "source": [
        "# __1. What is Numpy?__\n",
        "\n",
        "- For the first part of today's tutorial, we'll be discussing `numpy`, one of the most widely-used python libraries in the data science / ML community \n",
        "\n",
        "- __NumPy__ is a scientific computing library designed to optimize performance (base code is written in C)\n",
        "\n",
        "- It contains functions for dealing with almost every common mathematical operation, as well as linear algebra operations and random number generation\n",
        "\n",
        "- Its syntax is very user-friendly, and the base code is open-source: [see the website](https://numpy.org/)\n",
        "\n",
        "- Its fundamental data structure is the array (it can handle dimensions well beyond 3)\n",
        "\n",
        "- Numpy is a key package for data science!"
      ]
    },
    {
      "cell_type": "markdown",
      "metadata": {
        "id": "DW7REwLYGrH2"
      },
      "source": [
        "## The NumPy array\n",
        "\n",
        "- An array in this case is exactly what you might think - a grid of values\n",
        "\n",
        "- A matrix, for example, is 2D array (most of what we do will use matrices)\n",
        "\n",
        "- Numpy arrays can take most of the common python data types (integers, floats, strings, objects, etc.).....\n",
        "\n",
        "- But within an array, every element must be the same data type\n",
        "\n",
        "- Thus numpy is more commonly used for numerical data (though you can use categorical information)\n",
        "\n",
        "- Just like `pandas` dataframes, numpy arrays are indexed by non-negative integers (0, 1, 2, ...)\n",
        "\n",
        "- The __shape__ of an array is given by an ordered tuple (more on this shortly)\n",
        "\n",
        " $\\ \\ A =\n",
        " \\begin{pmatrix}\n",
        "  2 \\\\\n",
        "  0 \\\\\n",
        "  5 \\\\\n",
        "  1\n",
        " \\end{pmatrix}_{(4,1)} \\\n",
        " B = \\begin{pmatrix}\n",
        "  2 & 2 & 5\\\\\n",
        "  0 & 0 & 1\n",
        " \\end{pmatrix}_{(2,3)}$"
      ]
    },
    {
      "cell_type": "markdown",
      "metadata": {
        "id": "Z9-0byfBJ05C"
      },
      "source": [
        "<br>\n",
        "\n",
        "# __2. Creating and Reshaping NumPy Arrays__\n",
        "\n",
        "<br>\n",
        "\n",
        "<br>\n",
        "\n",
        "- There are many different ways to create a numpy array:\n",
        "\n"
      ]
    },
    {
      "cell_type": "code",
      "metadata": {
        "id": "MQAXB7QjJ9Rt"
      },
      "source": [
        "# The abbreviation np is very common\n",
        "import numpy as np"
      ],
      "execution_count": null,
      "outputs": []
    },
    {
      "cell_type": "markdown",
      "metadata": {
        "id": "A3sJR-DvKGCF"
      },
      "source": [
        "###__We can convert other python data structures__"
      ]
    },
    {
      "cell_type": "code",
      "source": [
        ""
      ],
      "metadata": {
        "id": "PHyVKcQ4rbTi"
      },
      "execution_count": null,
      "outputs": []
    },
    {
      "cell_type": "code",
      "metadata": {
        "colab": {
          "base_uri": "https://localhost:8080/"
        },
        "id": "yclWgHr5KNvX",
        "outputId": "28840e2c-f3cd-4eae-ea22-2a2af1557cd1"
      },
      "source": [
        "# define a list and convert\n",
        "my_list = [2,3,6,7]\n",
        "my_array = np.array(my_list)\n",
        "\n",
        "print(my_list)\n",
        "print(my_array)\n",
        "print('The first object is type {}\\nwhile the second object is type {}'.format(type(my_list),type(my_array)))\n",
        "print('The data within the array object is type',my_array.dtype)"
      ],
      "execution_count": null,
      "outputs": [
        {
          "output_type": "stream",
          "name": "stdout",
          "text": [
            "[2, 3, 6, 7]\n",
            "[2 3 6 7]\n",
            "The first object is type <class 'list'>\n",
            "while the second object is type <class 'numpy.ndarray'>\n",
            "The data within the array object is type int64\n"
          ]
        }
      ]
    },
    {
      "cell_type": "code",
      "source": [
        ""
      ],
      "metadata": {
        "id": "BLNqv2Wrrb3r"
      },
      "execution_count": null,
      "outputs": []
    },
    {
      "cell_type": "markdown",
      "metadata": {
        "id": "f22-4tCcK8b1"
      },
      "source": [
        "Notice the difference in formatting (elements in a numpy array (in print statement) are separated by spaces, not commas). Notice also the difference in data type.\n",
        "- Note that the type (class) of the array object is different from the type of data it holds\n",
        "\n",
        "Similarly, I could use nested lists to define an array in 2 dimensions"
      ]
    },
    {
      "cell_type": "code",
      "metadata": {
        "colab": {
          "base_uri": "https://localhost:8080/"
        },
        "id": "g5wBXu6RLprr",
        "outputId": "27ada6c6-c996-4151-f2dd-e337aa25c801"
      },
      "source": [
        "my_larger_list = [[2,3,6,7],[1,6,8,9], [2, 3, 7, 9]]\n",
        "my_larger_array = np.array(my_larger_list)\n",
        "\n",
        "print(my_larger_array)"
      ],
      "execution_count": null,
      "outputs": [
        {
          "output_type": "stream",
          "name": "stdout",
          "text": [
            "[[2 3 6 7]\n",
            " [1 6 8 9]\n",
            " [2 3 7 9]]\n"
          ]
        }
      ]
    },
    {
      "cell_type": "code",
      "source": [
        "my_larger_array.shape"
      ],
      "metadata": {
        "colab": {
          "base_uri": "https://localhost:8080/"
        },
        "id": "QkC2SiKQrckS",
        "outputId": "92589729-24f0-4496-9e3f-c46990ffd6fe"
      },
      "execution_count": null,
      "outputs": [
        {
          "output_type": "execute_result",
          "data": {
            "text/plain": [
              "(3, 4)"
            ]
          },
          "metadata": {},
          "execution_count": 14
        }
      ]
    },
    {
      "cell_type": "markdown",
      "metadata": {
        "id": "Apd6haV9KwIG"
      },
      "source": [
        "__Q: What is the shape of this array?__ \n",
        "\n",
        "<br>\n",
        "\n",
        "<br>\n",
        "\n",
        "When you have a numpy array, you can always find the shape using the `shape()` function (which is sliceable). "
      ]
    },
    {
      "cell_type": "code",
      "source": [
        "# Find the shape of the array\n",
        "my_larger_array.shape"
      ],
      "metadata": {
        "id": "xUgrzk1Zi0R5",
        "colab": {
          "base_uri": "https://localhost:8080/"
        },
        "outputId": "6381a436-58c1-448c-87df-9a7a17aa424f"
      },
      "execution_count": null,
      "outputs": [
        {
          "output_type": "execute_result",
          "data": {
            "text/plain": [
              "(3, 4)"
            ]
          },
          "metadata": {},
          "execution_count": 8
        }
      ]
    },
    {
      "cell_type": "markdown",
      "metadata": {
        "id": "7D37LkFogpcm"
      },
      "source": [
        "But the argument needn't be a list:"
      ]
    },
    {
      "cell_type": "code",
      "metadata": {
        "colab": {
          "base_uri": "https://localhost:8080/"
        },
        "id": "3lULU_4RhE0O",
        "outputId": "0c34d837-16d5-48f4-8774-ea46dafebfa3"
      },
      "source": [
        "my_nested_tuple = ((1,4,3,6),(2,2,2,2))\n",
        "my_array = np.array(my_nested_tuple)\n",
        "\n",
        "print(my_array)\n",
        "print(my_array.shape)"
      ],
      "execution_count": null,
      "outputs": [
        {
          "output_type": "stream",
          "name": "stdout",
          "text": [
            "[[1 4 3 6]\n",
            " [2 2 2 2]]\n",
            "(2, 4)\n"
          ]
        }
      ]
    },
    {
      "cell_type": "markdown",
      "metadata": {
        "id": "TKBRtp4yhcQy"
      },
      "source": [
        "Numpy can even (to a certain extent)  handle mixed data types automatically:"
      ]
    },
    {
      "cell_type": "code",
      "metadata": {
        "colab": {
          "base_uri": "https://localhost:8080/"
        },
        "id": "TQhK5iN8hjPd",
        "outputId": "79f29df0-7d37-42df-d1f3-8e5ce6c60e28"
      },
      "source": [
        "my_list_with_tuples = [[(2,3,4),(4,5,6),(7,5,4)],[[2,4,7],[1,1,1],[0,0,1]]]\n",
        "my_array = np.array(my_list_with_tuples)\n",
        "\n",
        "print(my_array)"
      ],
      "execution_count": null,
      "outputs": [
        {
          "output_type": "stream",
          "name": "stdout",
          "text": [
            "[[[2 3 4]\n",
            "  [4 5 6]\n",
            "  [7 5 4]]\n",
            "\n",
            " [[2 4 7]\n",
            "  [1 1 1]\n",
            "  [0 0 1]]]\n"
          ]
        }
      ]
    },
    {
      "cell_type": "code",
      "source": [
        "np.max(my_array, axis=(0,2))"
      ],
      "metadata": {
        "colab": {
          "base_uri": "https://localhost:8080/"
        },
        "id": "SHw8vgZ8t5uH",
        "outputId": "bd71ff66-dbb9-409c-fe63-d93d3e3aaf58"
      },
      "execution_count": null,
      "outputs": [
        {
          "output_type": "execute_result",
          "data": {
            "text/plain": [
              "array([7, 6, 7])"
            ]
          },
          "metadata": {},
          "execution_count": 29
        }
      ]
    },
    {
      "cell_type": "markdown",
      "metadata": {
        "id": "t7uUDLG8iNt2"
      },
      "source": [
        "__Q: What is the shape of this array?__ \n",
        "\n",
        "<br>\n",
        "\n",
        "Notice that in creating the array, numpy works its way from the top of the nesting structure down (not the other way)."
      ]
    },
    {
      "cell_type": "code",
      "metadata": {
        "id": "Pp7PRSxM_YtB",
        "colab": {
          "base_uri": "https://localhost:8080/"
        },
        "outputId": "2c570880-1ddb-4b66-acef-fd4c6896efe8"
      },
      "source": [
        "# Shape of the array\n",
        "my_array.shape"
      ],
      "execution_count": null,
      "outputs": [
        {
          "output_type": "execute_result",
          "data": {
            "text/plain": [
              "(2, 3, 3)"
            ]
          },
          "metadata": {},
          "execution_count": 10
        }
      ]
    },
    {
      "cell_type": "markdown",
      "metadata": {
        "id": "0DGJCwziicXd"
      },
      "source": [
        "<br>\n",
        "\n",
        "<br>\n",
        "\n",
        "###__We can create some types of matrices using standard numpy functions__"
      ]
    },
    {
      "cell_type": "code",
      "metadata": {
        "colab": {
          "base_uri": "https://localhost:8080/"
        },
        "id": "jV9EA6w3VfM5",
        "outputId": "86cb4172-c533-4693-b7c8-ccead0701307"
      },
      "source": [
        "array_of_zeros = np.zeros((3,4))\n",
        "print('Array of zeros:\\n',array_of_zeros)\n",
        "# Very useful for initializing parameter matrices for numerical optimization (e.g. neural nets)\n",
        "\n",
        "array_of_ones = np.ones((2,2))\n",
        "print('Array of ones:\\n',array_of_ones)\n",
        "\n",
        "identity_matrix = np.eye(5)\n",
        "print('Identity Matrix:\\n',identity_matrix)\n",
        "# Useful for adding noise to avoid numerical instability\n",
        "\n",
        "# Create arrays with regular increments as values\n",
        "equally_spaced_array = np.arange(start=5,stop=11, step=0.5, dtype=float)\n",
        "print('Note the equal spacing:\\n',equally_spaced_array)\n",
        "\n",
        "# Similar function, but you can control the number of points more easily\n",
        "spaced_10_points = np.linspace(num=10,start=100,stop=200,dtype=int)\n",
        "print('Better control over the number of points:\\n',spaced_10_points)\n",
        "\n",
        "# These last two functions are very useful for defining grids of hyperparameter values\n",
        "# Also useful for plotting discrete approximations to continuous functions"
      ],
      "execution_count": null,
      "outputs": [
        {
          "output_type": "stream",
          "name": "stdout",
          "text": [
            "Array of zeros:\n",
            " [[0. 0. 0. 0.]\n",
            " [0. 0. 0. 0.]\n",
            " [0. 0. 0. 0.]]\n",
            "Array of ones:\n",
            " [[1. 1.]\n",
            " [1. 1.]]\n",
            "Identity Matrix:\n",
            " [[1. 0. 0. 0. 0.]\n",
            " [0. 1. 0. 0. 0.]\n",
            " [0. 0. 1. 0. 0.]\n",
            " [0. 0. 0. 1. 0.]\n",
            " [0. 0. 0. 0. 1.]]\n",
            "Note the equal spacing:\n",
            " [ 5.   5.5  6.   6.5  7.   7.5  8.   8.5  9.   9.5 10.  10.5]\n",
            "Better control over the number of points:\n",
            " [100 111 122 133 144 155 166 177 188 200]\n"
          ]
        }
      ]
    },
    {
      "cell_type": "markdown",
      "metadata": {
        "id": "bGMwAHHFgEyu"
      },
      "source": [
        "Although I will not show it here, the pandas function `to_array()` converts pandas dfs to numpy arrays. Similarly, you could use the pandas `DataFrame()` function to convert back."
      ]
    },
    {
      "cell_type": "markdown",
      "metadata": {
        "id": "bkcSZW84cCuR"
      },
      "source": [
        "<br>\n",
        "\n",
        "<br>\n",
        "\n",
        "### __We can read in external data__\n",
        "- Note this is probably the most underdeveloped part of `numpy`. It is more common to load and clean the data with other packages (e.g. `pandas`), before converting to a numpy array."
      ]
    },
    {
      "cell_type": "code",
      "metadata": {
        "colab": {
          "base_uri": "https://localhost:8080/"
        },
        "id": "1MnGhYa4du9F",
        "outputId": "cd535440-6f5d-4067-f358-74d148981a2e"
      },
      "source": [
        "# Let's read in some csv data\n",
        "from io import StringIO\n",
        "\n",
        "csv_raw = '''2,3,4\\n\n",
        "5,6,8\\n\n",
        "0,0,1\\n\n",
        "4,4,4\n",
        "'''\n",
        "csv_converted = StringIO(csv_raw)\n",
        "\n",
        "# Note that the genfromtxt function could just as easily \n",
        "# Accept a filepath instead of a string\n",
        "\n",
        "my_csv_array = np.genfromtxt(csv_converted, delimiter=\",\")\n",
        "print('New array:\\n',my_csv_array)"
      ],
      "execution_count": null,
      "outputs": [
        {
          "output_type": "stream",
          "name": "stdout",
          "text": [
            "New array:\n",
            " [[2. 3. 4.]\n",
            " [5. 6. 8.]\n",
            " [0. 0. 1.]\n",
            " [4. 4. 4.]]\n"
          ]
        }
      ]
    },
    {
      "cell_type": "markdown",
      "metadata": {
        "id": "WbItAXw9j1z3"
      },
      "source": [
        "<br>\n",
        "\n",
        "<br>\n",
        "\n",
        "### __We can also just create an array from scratch__"
      ]
    },
    {
      "cell_type": "code",
      "metadata": {
        "colab": {
          "base_uri": "https://localhost:8080/"
        },
        "id": "sTbDTBkRZVC3",
        "outputId": "0c4206d4-e194-4479-cb8d-692d478c5af9"
      },
      "source": [
        "row_from_scratch = np.array([2,1,4,8])\n",
        "print('Row vector: ',row_from_scratch)\n",
        "\n",
        "col_from_scratch = np.array([[2],[1],[4],[8]])\n",
        "print('Column vector: ',col_from_scratch)\n",
        "\n",
        "matrix_from_scratch = np.array([[2,1],[4,8]])\n",
        "print('Matrix:\\n',matrix_from_scratch)"
      ],
      "execution_count": null,
      "outputs": [
        {
          "output_type": "stream",
          "name": "stdout",
          "text": [
            "Row vector:  [2 1 4 8]\n",
            "Column vector:  [[2]\n",
            " [1]\n",
            " [4]\n",
            " [8]]\n",
            "Matrix:\n",
            " [[2 1]\n",
            " [4 8]]\n"
          ]
        }
      ]
    },
    {
      "cell_type": "markdown",
      "source": [
        "<br>\n",
        "\n",
        "__Q: What is the shape of `row_from_scratch`?__  The answer might surprise you..."
      ],
      "metadata": {
        "id": "FyIrvY0GjbK-"
      }
    },
    {
      "cell_type": "code",
      "metadata": {
        "id": "Xn9V_mY6_iNe",
        "colab": {
          "base_uri": "https://localhost:8080/"
        },
        "outputId": "bfa1ca56-1bbb-4b0a-a1a8-cab97f4ebd01"
      },
      "source": [
        "# Answer question below\n",
        "row_from_scratch.shape"
      ],
      "execution_count": null,
      "outputs": [
        {
          "output_type": "execute_result",
          "data": {
            "text/plain": [
              "(4,)"
            ]
          },
          "metadata": {},
          "execution_count": 13
        }
      ]
    },
    {
      "cell_type": "markdown",
      "metadata": {
        "id": "JmTDVhaJbAai"
      },
      "source": [
        "\n",
        "<br>\n",
        "\n",
        "<br>\n",
        "\n",
        "__Warning__: When initiating numpy arrays in more than 1 dimension, numpy will only add additional indices if it needs to (ie if there really is > 1 dimensions). \n",
        "- This can be a problem for matrix multiplication ( ie. you might think multiplying (4,) x (1,4) should yield a 4 x 4 matrix, but numpy will throw an error)\n",
        "- So how to fix this?\n",
        "\n",
        "<br>\n",
        "\n",
        "<br>\n",
        "\n",
        "## __Reshaping and Slicing__\n",
        "\n",
        "- We can use the `reshape()` function to change the shape of our arrays\n",
        "- Since this function is pure, we'll have to use reassignment to make the changes permanent\n",
        "- Note that the number of elements in the old shape must equal those in the new shape (or numpy will throw an error)"
      ]
    },
    {
      "cell_type": "code",
      "metadata": {
        "colab": {
          "base_uri": "https://localhost:8080/"
        },
        "id": "A62P-Hd_nrL1",
        "outputId": "f5446513-b399-4f00-f534-cd81e92b1071"
      },
      "source": [
        "# Recall our row vector above\n",
        "print('Old shape:',row_from_scratch.shape)\n",
        "row_from_scratch = np.reshape(row_from_scratch, newshape=(4,1))\n",
        "print('New shape:',row_from_scratch.shape)\n",
        "print(row_from_scratch)\n",
        "\n",
        "# Let's create a new matrix with the same elements\n",
        "new_matrix = np.reshape(row_from_scratch, newshape = (2,2))\n",
        "print('New matrix:\\n',new_matrix)\n"
      ],
      "execution_count": null,
      "outputs": [
        {
          "output_type": "stream",
          "name": "stdout",
          "text": [
            "Old shape: (4,)\n",
            "New shape: (4, 1)\n",
            "[[2]\n",
            " [1]\n",
            " [4]\n",
            " [8]]\n",
            "New matrix:\n",
            " [[2 1]\n",
            " [4 8]]\n"
          ]
        }
      ]
    },
    {
      "cell_type": "markdown",
      "metadata": {
        "id": "DJVP30yIpCxy"
      },
      "source": [
        "- Note how the elements were placed in the matrix (left to right, top to bottom)\n",
        "\n",
        "<br>\n",
        "\n",
        "<br>\n",
        "\n",
        "### Slicing\n",
        "\n",
        "In numpy, each dimension of an array gets its own index.\n",
        "- To extract subsets of an array (also called slicing), we need to specify values for each index/dimension\n",
        "- The order of indices when slices follows the order of the array shape\n",
        "- For example, suppose I wanted the following:"
      ]
    },
    {
      "cell_type": "code",
      "metadata": {
        "colab": {
          "base_uri": "https://localhost:8080/"
        },
        "id": "aEOdlU9xpybX",
        "outputId": "94d35d3d-a4e1-4193-f806-18cf68972ae0"
      },
      "source": [
        "# Remember python is zero-indexed\n",
        "\n",
        "# First 2 rows of row_from_scratch (only 2 data points)\n",
        "print(row_from_scratch[0:2,:])\n",
        "\n",
        "print('--------')\n",
        "\n",
        "# Last 2 rows of row_from_scratch (shape 4x1)\n",
        "print(row_from_scratch[-2:,:])\n",
        "\n",
        "print('--------')\n",
        "\n",
        "# First column of new matrix (shape 2x2)\n",
        "print(new_matrix[:,0])"
      ],
      "execution_count": null,
      "outputs": [
        {
          "output_type": "stream",
          "name": "stdout",
          "text": [
            "[[2]\n",
            " [1]]\n",
            "--------\n",
            "[[4]\n",
            " [8]]\n",
            "--------\n",
            "[2 4]\n"
          ]
        }
      ]
    },
    {
      "cell_type": "markdown",
      "metadata": {
        "id": "uSdOH-36rlmx"
      },
      "source": [
        "This is very similar to slicing in `pandas`. You can also use conditioning:"
      ]
    },
    {
      "cell_type": "code",
      "metadata": {
        "colab": {
          "base_uri": "https://localhost:8080/"
        },
        "id": "ODPUu9tNsUcm",
        "outputId": "a5f40a8a-7c16-4b4b-883f-d2d41f7ebd40"
      },
      "source": [
        "binary_matrix = (new_matrix > 3).astype(float)\n",
        "print(binary_matrix)\n",
        "\n",
        "# You probably don't want to work with boolean values\n",
        "# The astype() changes boolean to float"
      ],
      "execution_count": null,
      "outputs": [
        {
          "output_type": "stream",
          "name": "stdout",
          "text": [
            "[[0. 0.]\n",
            " [1. 1.]]\n"
          ]
        }
      ]
    },
    {
      "cell_type": "markdown",
      "source": [
        "<br>\n",
        "\n",
        "__Q: How would I obtain a binary vector based on `row_from_scratch` whose elements are 1 if `row_from_scratch > 4` and 0 if not?__ "
      ],
      "metadata": {
        "id": "HGtKEyjGjoIG"
      }
    },
    {
      "cell_type": "code",
      "metadata": {
        "id": "q6Hw0GFj_7Bn",
        "colab": {
          "base_uri": "https://localhost:8080/"
        },
        "outputId": "e066a0e2-0384-4720-8bad-9cb3e23dad6a"
      },
      "source": [
        "# Answer question below\n",
        "quick = np.reshape(row_from_scratch, newshape=(4,))\n",
        "(quick > 4).astype(float)"
      ],
      "execution_count": null,
      "outputs": [
        {
          "output_type": "execute_result",
          "data": {
            "text/plain": [
              "array([0., 0., 0., 1.])"
            ]
          },
          "metadata": {},
          "execution_count": 23
        }
      ]
    },
    {
      "cell_type": "markdown",
      "metadata": {
        "id": "-AnAG-Fds9H7"
      },
      "source": [
        "\n",
        "<br>\n",
        "\n",
        "<br>\n",
        "\n",
        "# __3. Some Basic Operations__\n",
        "\n",
        "- Numpy provides built-in functions that let you compute most popular summary statistics\n",
        "- Moreover, since numpy arrays can have more than one dimension, these functions let you specify on which dimension to apply the calculation\n",
        "- Many of these are nearly identical to their `pandas` counterparts"
      ]
    },
    {
      "cell_type": "code",
      "metadata": {
        "colab": {
          "base_uri": "https://localhost:8080/"
        },
        "id": "94zUwXeZwzJ6",
        "outputId": "148f2c24-84e5-4227-80f5-f1e79caf4158"
      },
      "source": [
        "# Let's generate a numpy array to work with\n",
        "sample_array = np.array([[1,2,3],[4,5,6],[7,8,9]])\n",
        "print(sample_array)\n",
        "\n",
        "# Take the mean of the entire array\n",
        "print('Mean of whole array\\n',np.mean(sample_array))\n",
        "\n",
        "# Take the mean of each row\n",
        "\n",
        "# Note that the axis param denotes the direction \n",
        "# along which the computation is done (0 = column, 1 = row)\n",
        "print('Row-wise means\\n',np.mean(sample_array, axis=1))\n",
        "\n",
        "# Take the mean of each column\n",
        "print('Column-wise means\\n',np.mean(sample_array, axis=0))"
      ],
      "execution_count": null,
      "outputs": [
        {
          "output_type": "stream",
          "name": "stdout",
          "text": [
            "[[1 2 3]\n",
            " [4 5 6]\n",
            " [7 8 9]]\n",
            "Mean of whole array\n",
            " 5.0\n",
            "Row-wise means\n",
            " [2. 5. 8.]\n",
            "Column-wise means\n",
            " [4. 5. 6.]\n"
          ]
        }
      ]
    },
    {
      "cell_type": "markdown",
      "metadata": {
        "id": "l8gkEv4m9RBP"
      },
      "source": [
        "Other functions take similar parameters:"
      ]
    },
    {
      "cell_type": "code",
      "metadata": {
        "colab": {
          "base_uri": "https://localhost:8080/"
        },
        "id": "EPhRpzBN9W1I",
        "outputId": "b9287d1c-5405-4d42-939b-04cdfe0de740"
      },
      "source": [
        "# Standard deviation (Column-wise) \n",
        "print('Columnwise St Dev:',np.std(sample_array, axis=0))\n",
        "\n",
        "# Variance (Entire array)\n",
        "print('Variance:',np.var(sample_array))\n",
        "\n",
        "# Median (Row-wise)\n",
        "print('Row-wise Median:',np.median(sample_array, axis=1))\n",
        "\n",
        "# Min (Entire array)\n",
        "print('Minimum:',np.min(sample_array))"
      ],
      "execution_count": null,
      "outputs": [
        {
          "output_type": "stream",
          "name": "stdout",
          "text": [
            "Columnwise St Dev: [2.44948974 2.44948974 2.44948974]\n",
            "Variance: 6.666666666666667\n",
            "Row-wise Median: [2. 5. 8.]\n",
            "Minimum: 1\n"
          ]
        }
      ]
    },
    {
      "cell_type": "markdown",
      "source": [
        "<br>\n",
        "\n",
        "__Q: How would I obtain the maximum value in each column of `sample_array`?__ Please type your answer into the chat.\n"
      ],
      "metadata": {
        "id": "70Vb5XNOj3Sd"
      }
    },
    {
      "cell_type": "code",
      "metadata": {
        "id": "zaT_RIr-AG-p",
        "colab": {
          "base_uri": "https://localhost:8080/"
        },
        "outputId": "cd93f3e1-2175-4e45-f0dd-bf73dd0a774f"
      },
      "source": [
        "# Answer question below\n",
        "np.max(sample_array, axis=0)"
      ],
      "execution_count": null,
      "outputs": [
        {
          "output_type": "execute_result",
          "data": {
            "text/plain": [
              "array([7, 8, 9])"
            ]
          },
          "metadata": {},
          "execution_count": 25
        }
      ]
    },
    {
      "cell_type": "markdown",
      "metadata": {
        "id": "FRfCIzeW-2Ju"
      },
      "source": [
        "<br>\n",
        "\n",
        "<br>\n",
        "\n",
        "The code above was for operations _on a single array_. `numpy` also has a number of useful operations defined for _multiple arrays_.\n",
        "\n",
        "- To show these, let's define a few new arrays:"
      ]
    },
    {
      "cell_type": "code",
      "metadata": {
        "colab": {
          "base_uri": "https://localhost:8080/"
        },
        "id": "5zDMOO2G_qyl",
        "outputId": "0d7ca839-cb3c-418d-b40d-376bdd6173d4"
      },
      "source": [
        "# Generate some new matrices\n",
        "a = np.array([[1,1,1],[2,2,2],[3,3,3]])\n",
        "b = np.array([[2,0,0],[0,2,0],[0,0,2]])\n",
        "c = np.array([1,1,1])\n",
        "c = np.reshape(c,newshape=(3,1))\n",
        "\n",
        "print('Matrix A:\\n',a)\n",
        "print('Shape of A:',a.shape)\n",
        "\n",
        "print('Matrix B:\\n',b)\n",
        "print('Shape of B:',b.shape)\n",
        "\n",
        "print('Matrix C:\\n',c)\n",
        "print('Shape of C:',c.shape)"
      ],
      "execution_count": null,
      "outputs": [
        {
          "output_type": "stream",
          "name": "stdout",
          "text": [
            "Matrix A:\n",
            " [[1 1 1]\n",
            " [2 2 2]\n",
            " [3 3 3]]\n",
            "Shape of A: (3, 3)\n",
            "Matrix B:\n",
            " [[2 0 0]\n",
            " [0 2 0]\n",
            " [0 0 2]]\n",
            "Shape of B: (3, 3)\n",
            "Matrix C:\n",
            " [[1]\n",
            " [1]\n",
            " [1]]\n",
            "Shape of C: (3, 1)\n"
          ]
        }
      ]
    },
    {
      "cell_type": "markdown",
      "metadata": {
        "id": "CH4UZgZPB76k"
      },
      "source": [
        "I can combine the above arrays in several different ways using standard numpy functions"
      ]
    },
    {
      "cell_type": "code",
      "metadata": {
        "colab": {
          "base_uri": "https://localhost:8080/"
        },
        "id": "TX449fDcCPZx",
        "outputId": "4bd07856-8b5d-49a5-9501-1c186245bf0b"
      },
      "source": [
        "# Element-wise Addition\n",
        "print('A + B\\n',np.add(a,b))\n",
        "\n",
        "# Element-wise Subtraction\n",
        "print('A - B\\n',np.subtract(a,b))\n",
        "\n",
        "# Element-wise Multiplication\n",
        "print('A x B\\n',np.multiply(a,b))\n",
        "\n",
        "# Element-wise Multiplication\n",
        "print('A / B\\n',np.divide(a,b))"
      ],
      "execution_count": null,
      "outputs": [
        {
          "output_type": "stream",
          "name": "stdout",
          "text": [
            "A + B\n",
            " [[3 1 1]\n",
            " [2 4 2]\n",
            " [3 3 5]]\n",
            "A - B\n",
            " [[-1  1  1]\n",
            " [ 2  0  2]\n",
            " [ 3  3  1]]\n",
            "A x B\n",
            " [[2 0 0]\n",
            " [0 4 0]\n",
            " [0 0 6]]\n",
            "A / B\n",
            " [[0.5 inf inf]\n",
            " [inf 1.  inf]\n",
            " [inf inf 1.5]]\n"
          ]
        },
        {
          "output_type": "stream",
          "name": "stderr",
          "text": [
            "/usr/local/lib/python3.7/dist-packages/ipykernel_launcher.py:11: RuntimeWarning: divide by zero encountered in true_divide\n",
            "  # This is added back by InteractiveShellApp.init_path()\n"
          ]
        }
      ]
    },
    {
      "cell_type": "markdown",
      "metadata": {
        "id": "rLM6sn-QEWdL"
      },
      "source": [
        "NumPy also has built in functions for most of the linear algebra operations you might have computed/coded by hand:"
      ]
    },
    {
      "cell_type": "code",
      "metadata": {
        "colab": {
          "base_uri": "https://localhost:8080/"
        },
        "id": "gbgyobPQEjLl",
        "outputId": "8299a2d1-2792-460c-b374-f417aa59113e"
      },
      "source": [
        "# Transpose\n",
        "print('Transpose of A:\\n', a.T)\n",
        "\n",
        "# Inverse\n",
        "print('Inverse of B:\\n', np.linalg.inv(b))\n",
        "\n",
        "# Dot/Inner product\n",
        "print('Inner product AB\\n',np.dot(a,b))"
      ],
      "execution_count": null,
      "outputs": [
        {
          "output_type": "stream",
          "name": "stdout",
          "text": [
            "Transpose of A:\n",
            " [[1 2 3]\n",
            " [1 2 3]\n",
            " [1 2 3]]\n",
            "Inverse of B:\n",
            " [[0.5 0.  0. ]\n",
            " [0.  0.5 0. ]\n",
            " [0.  0.  0.5]]\n",
            "Inner product AB\n",
            " [[2 2 2]\n",
            " [4 4 4]\n",
            " [6 6 6]]\n"
          ]
        }
      ]
    },
    {
      "cell_type": "markdown",
      "source": [
        "<br>\n",
        "\n",
        "__Q: What would happen if I tried to find $A C^{T}$? Why?__ Please type your answer into the chat. Hint: Go back and look at their shapes above..."
      ],
      "metadata": {
        "id": "RqEy259cj_VD"
      }
    },
    {
      "cell_type": "code",
      "source": [
        "# Answer question below\n",
        "# Because C^T would give us a 1x3 matrix, and we can't multiply a 3x3 matrix "
      ],
      "metadata": {
        "id": "Qi2AZlBvkBfD"
      },
      "execution_count": null,
      "outputs": []
    },
    {
      "cell_type": "markdown",
      "metadata": {
        "id": "9O4YAvJZGSVk"
      },
      "source": [
        "\n",
        "<br>\n",
        "\n",
        "<br>\n",
        "\n",
        "<br>\n",
        "\n",
        "# __4. Vectorization and Broadcasting__\n",
        "- At this point, you might be wondering why you should care\n",
        "- Why is it a big deal if I can find the inner product of two matrices?\n",
        "- Consider what we would have to do if we didn't have `numpy`"
      ]
    },
    {
      "cell_type": "code",
      "metadata": {
        "colab": {
          "base_uri": "https://localhost:8080/"
        },
        "id": "wNSuN1GeHnpc",
        "outputId": "8898835b-7ea5-4882-ca28-0fa78651e22e"
      },
      "source": [
        "# Inner Product using python lists\n",
        "\n",
        "c = [1,1,1,1,1,1]\n",
        "d = [2,2,2,2,2,2]\n",
        "\n",
        "# Using for loops\n",
        "innprod = 0\n",
        "for i in range(len(c)):\n",
        "    innprod += c[i]*d[i]\n",
        "print('Dot product the old-fashioned way:',innprod) \n",
        "\n",
        "# Elementwise addition with python lists\n",
        "new_list = []\n",
        "for i in range(len(c)):\n",
        "  s = c[i] + d[i]\n",
        "  new_list.append(s)\n",
        "print('Elementwise sum the old-fashioned way:',new_list)\n",
        "\n",
        "# Imagine how crazy this would be if C, D were matrices instead of vectors!!\n",
        "\n",
        "\n",
        "## Using numpy\n",
        "c_array,d_array = np.array(c),np.array(d)\n",
        "print('The much faster numpy dot product:',np.dot(c_array,d_array))\n",
        "\n",
        "print('The much better/faster elementwise sum:', c_array + d_array)\n"
      ],
      "execution_count": null,
      "outputs": [
        {
          "output_type": "stream",
          "name": "stdout",
          "text": [
            "Dot product the old-fashioned way: 12\n",
            "Elementwise sum the old-fashioned way: [3, 3, 3, 3, 3, 3]\n",
            "The much faster numpy dot product: 12\n",
            "The much better/faster elementwise sum: [3 3 3 3 3 3]\n"
          ]
        }
      ]
    },
    {
      "cell_type": "markdown",
      "metadata": {
        "id": "YZSD2X5nJarG"
      },
      "source": [
        "## Vectorization\n",
        "\n",
        "Most of `numpy` is written in the array programming style called __vectorization__, where functions are designed to act on entire arrays instead of individual elements within them\n",
        "- This makes the code much more elegant and easy to write/read\n",
        "- Also, numpy functions are optimized for speed, and in larger arrays, using the for-loop approach will cost a lot of time \n",
        "- Notice on the last example above, I didn't even need to use `np.sum()`, since C and D were the same shape\n",
        "- Numpy allows you to go straight from algebraic solutions to code (more on this in the last section)\n",
        "\n",
        "<br>\n",
        "\n",
        "<br>\n",
        "\n",
        "## Broadcasting\n",
        "- Recall the matrices we generated earlier:"
      ]
    },
    {
      "cell_type": "code",
      "metadata": {
        "colab": {
          "base_uri": "https://localhost:8080/"
        },
        "id": "AYWiO2hTMPLp",
        "outputId": "bea94d81-8a95-497d-8e17-a0b3ce7795ca"
      },
      "source": [
        "# Generate some new matrices\n",
        "a = np.array([[1,1,1],[2,2,2],[3,3,3]])\n",
        "b = np.array([[2,0,0],[0,2,0],[0,0,2]])\n",
        "c = np.array([1,1,1])\n",
        "c = np.reshape(c,newshape=(3,1))\n",
        "\n",
        "print('Matrix A:\\n',a)\n",
        "print('Shape of A:',a.shape)\n",
        "\n",
        "print('Matrix B:\\n',b)\n",
        "print('Shape of B:',b.shape)\n",
        "\n",
        "print('Matrix C:\\n',c)\n",
        "print('Shape of C:',c.shape)"
      ],
      "execution_count": null,
      "outputs": [
        {
          "output_type": "stream",
          "name": "stdout",
          "text": [
            "Matrix A:\n",
            " [[1 1 1]\n",
            " [2 2 2]\n",
            " [3 3 3]]\n",
            "Shape of A: (3, 3)\n",
            "Matrix B:\n",
            " [[2 0 0]\n",
            " [0 2 0]\n",
            " [0 0 2]]\n",
            "Shape of B: (3, 3)\n",
            "Matrix C:\n",
            " [[1]\n",
            " [1]\n",
            " [1]]\n",
            "Shape of C: (3, 1)\n"
          ]
        }
      ]
    },
    {
      "cell_type": "markdown",
      "metadata": {
        "id": "Dii--oweNLIo"
      },
      "source": [
        "Remember the dot product was not always defined. But what if wanted to do something much simpler than the dot product? What if I wanted to add c to each column of A?"
      ]
    },
    {
      "cell_type": "code",
      "metadata": {
        "colab": {
          "base_uri": "https://localhost:8080/"
        },
        "id": "GIj4qXMvN2CU",
        "outputId": "74524d27-635c-4441-ba76-5935e232a67b"
      },
      "source": [
        "a + c"
      ],
      "execution_count": null,
      "outputs": [
        {
          "output_type": "execute_result",
          "data": {
            "text/plain": [
              "array([[2, 2, 2],\n",
              "       [3, 3, 3],\n",
              "       [4, 4, 4]])"
            ]
          },
          "metadata": {},
          "execution_count": 25
        }
      ]
    },
    {
      "cell_type": "markdown",
      "metadata": {
        "id": "p-e8nN_fOBpp"
      },
      "source": [
        "- All I had to do here was use a simple summation, and numpy knew what I was trying to do\n",
        "- For simple arithmetic operations (+,-,x,/), numpy will stretch or copy the matrix that is traditionally too small until it reaches a shape that makes the operation feasible\n",
        "- Typically the smaller array is __broadcast__ across the larger one\n",
        "- Doing this avoids unnecessary copying of vectors/matrices, which frees up memory\n",
        "\n",
        "__Some Broadcasting Rules__\n",
        "\n",
        "i. Broadcasting is only done between two arrays (at a time)\n",
        "\n",
        "ii. Numpy compares two arrays by evaluating their shapes (tuples) from right to left\n",
        "\n",
        "iii. A pair of dimensions (corresponding elements in the shape tuple) can only be broadcast if:\n",
        "- Both elements are the same _or_\n",
        "- One of the elements is 1\n",
        "\n",
        "In other words, the larger array must be greater than or equal to the smaller array in every dimension\n",
        "\n",
        "<br>\n",
        "\n",
        "Some examples:"
      ]
    },
    {
      "cell_type": "markdown",
      "metadata": {
        "id": "-37B8gczQy_1"
      },
      "source": [
        "$A + C^{T} = \\begin{pmatrix}\n",
        "1 & 1 & 1 \\\\\n",
        "2 & 2 & 2 \\\\\n",
        "3 & 3 & 3\n",
        "\\end{pmatrix} + \\begin{pmatrix}\n",
        "1 & 1 & 1\n",
        "\\end{pmatrix} \\Rightarrow$ (Broadcast) $\\Rightarrow \\begin{pmatrix}\n",
        "1 & 1 & 1 \\\\\n",
        "2 & 2 & 2 \\\\\n",
        "3 & 3 & 3\n",
        "\\end{pmatrix} + \\begin{pmatrix}\n",
        "1 & 1 & 1 \\\\\n",
        "1 & 1 & 1 \\\\\n",
        "1 & 1 & 1 \n",
        "\\end{pmatrix} = \\begin{pmatrix}\n",
        "2 & 2 & 2 \\\\\n",
        "3 & 3 & 3 \\\\\n",
        "4 & 4 & 4 \n",
        "\\end{pmatrix}$\n",
        "\n",
        "- Comparing (3,3) and (1,3) from right to left:\n",
        "  - In the first comparison, both elements are equal\n",
        "  - In the second comparison, the second element is 1\n",
        "- Since both conditions are met, broadcasting works"
      ]
    },
    {
      "cell_type": "code",
      "metadata": {
        "colab": {
          "base_uri": "https://localhost:8080/"
        },
        "id": "e3mMGdRqQcVu",
        "outputId": "422c5b57-0b3f-4c83-d67c-df4a1ceba3cf"
      },
      "source": [
        "# Adding A and C_transpose ((3,3) + (1,3))\n",
        "print('A + C_transpose:\\n', a + c.T)"
      ],
      "execution_count": null,
      "outputs": [
        {
          "output_type": "stream",
          "name": "stdout",
          "text": [
            "A + C_transpose:\n",
            " [[2 2 2]\n",
            " [3 3 3]\n",
            " [4 4 4]]\n"
          ]
        }
      ]
    },
    {
      "cell_type": "markdown",
      "metadata": {
        "id": "eNXtJuvnVNKu"
      },
      "source": [
        "Also works for scalars:\n",
        "\n",
        "$A + 2C = \\begin{pmatrix}\n",
        "1 & 1 & 1 \\\\\n",
        "2 & 2 & 2 \\\\\n",
        "3 & 3 & 3\n",
        "\\end{pmatrix} + \\begin{pmatrix}\n",
        "2 \\\\ 2 \\\\ 2\n",
        "\\end{pmatrix} \\Rightarrow$ (Broadcast) $\\Rightarrow \\begin{pmatrix}\n",
        "1 & 1 & 1 \\\\\n",
        "2 & 2 & 2 \\\\\n",
        "3 & 3 & 3\n",
        "\\end{pmatrix} + \\begin{pmatrix}\n",
        "2 & 2 & 2 \\\\\n",
        "2 & 2 & 2 \\\\\n",
        "2 & 2 & 2 \n",
        "\\end{pmatrix} = \\begin{pmatrix}\n",
        "3 & 3 & 3 \\\\\n",
        "4 & 4 & 4 \\\\\n",
        "5 & 5 & 5 \n",
        "\\end{pmatrix}$"
      ]
    },
    {
      "cell_type": "code",
      "metadata": {
        "colab": {
          "base_uri": "https://localhost:8080/"
        },
        "id": "MXB7qJ8hV-rk",
        "outputId": "c1b84fc7-2666-47df-a73b-c8f8d2c6eb56"
      },
      "source": [
        "a + 2*c"
      ],
      "execution_count": null,
      "outputs": [
        {
          "output_type": "execute_result",
          "data": {
            "text/plain": [
              "array([[3, 3, 3],\n",
              "       [4, 4, 4],\n",
              "       [5, 5, 5]])"
            ]
          },
          "metadata": {},
          "execution_count": 27
        }
      ]
    },
    {
      "cell_type": "markdown",
      "metadata": {
        "id": "vx6nLFBuWDqD"
      },
      "source": [
        "This also works, for the same reason above\n",
        "- Technically this was 2 broadcasts (one for scalar multiplication on C, and one for addition)\n",
        "\n",
        "<br>\n",
        "\n",
        "__Q: Suppose I define the new array E , shown below. (Go ahead a run the cell) Would broadcasting successfully allow me to find A + E? Why or why not?__ Hint: remember our two conditions earlier."
      ]
    },
    {
      "cell_type": "code",
      "metadata": {
        "colab": {
          "base_uri": "https://localhost:8080/"
        },
        "id": "Z85ennplTMRU",
        "outputId": "b9edf7b2-c3d9-4345-a443-1e7e815e0b2f"
      },
      "source": [
        "\n",
        "e = np.array([[2,2],[3,3],[4,4]])\n",
        "print('E:\\n',e)\n",
        "print('Shape of E:', e.shape)\n",
        "print('A:\\n',a)\n",
        "print('Shape of A:', a.shape)"
      ],
      "execution_count": null,
      "outputs": [
        {
          "output_type": "stream",
          "name": "stdout",
          "text": [
            "E:\n",
            " [[2 2]\n",
            " [3 3]\n",
            " [4 4]]\n",
            "Shape of E: (3, 2)\n",
            "A:\n",
            " [[1 1 1]\n",
            " [2 2 2]\n",
            " [3 3 3]]\n",
            "Shape of A: (3, 3)\n"
          ]
        }
      ]
    },
    {
      "cell_type": "code",
      "source": [
        "# Answer question below\n",
        "a + e"
      ],
      "metadata": {
        "id": "NjFauxSwkSJ_",
        "colab": {
          "base_uri": "https://localhost:8080/",
          "height": 189
        },
        "outputId": "2eabe864-da01-4f02-d333-4211b340fcca"
      },
      "execution_count": null,
      "outputs": [
        {
          "output_type": "error",
          "ename": "ValueError",
          "evalue": "ignored",
          "traceback": [
            "\u001b[0;31m---------------------------------------------------------------------------\u001b[0m",
            "\u001b[0;31mValueError\u001b[0m                                Traceback (most recent call last)",
            "\u001b[0;32m<ipython-input-36-e35f22e7d9d5>\u001b[0m in \u001b[0;36m<module>\u001b[0;34m()\u001b[0m\n\u001b[1;32m      1\u001b[0m \u001b[0;31m# Answer question below\u001b[0m\u001b[0;34m\u001b[0m\u001b[0;34m\u001b[0m\u001b[0;34m\u001b[0m\u001b[0m\n\u001b[0;32m----> 2\u001b[0;31m \u001b[0ma\u001b[0m \u001b[0;34m+\u001b[0m \u001b[0me\u001b[0m\u001b[0;34m\u001b[0m\u001b[0;34m\u001b[0m\u001b[0m\n\u001b[0m",
            "\u001b[0;31mValueError\u001b[0m: operands could not be broadcast together with shapes (3,3) (3,2) "
          ]
        }
      ]
    },
    {
      "cell_type": "markdown",
      "metadata": {
        "id": "nL5Add_RXa-S"
      },
      "source": [
        "<br>\n",
        "\n",
        "<br>\n",
        "\n",
        "<br>\n",
        "\n",
        "# __5. Random Number Generation__\n",
        "- In addition to the creation functions shown earlier, `numpy` also allows for very easy random number generation. Here are a few examples:\n"
      ]
    },
    {
      "cell_type": "code",
      "metadata": {
        "colab": {
          "base_uri": "https://localhost:8080/"
        },
        "id": "Dqg39QCkYHV_",
        "outputId": "1085a646-5928-4b8f-abe9-0dfe0dfcca0b"
      },
      "source": [
        "# Set seed for reproducibility\n",
        "np.random.seed(42)\n",
        "\n",
        "# Generate a sample of 10 from a standard normal density\n",
        "rand_norm_sample = np.random.normal(0,1,size=10)\n",
        "print('Standard Normal Sample:',rand_norm_sample)\n",
        "\n",
        "# Generate a sample of 2 from a Beta(1,1) density\n",
        "rand_beta_sample = np.random.beta(1,1, size=10)\n",
        "print('\\nBeta(1,1) Sample:',rand_beta_sample)\n",
        "\n",
        "# Generate a random categorical variable\n",
        "rand_cat = np.random.choice(['A','B','C'],size = 10)\n",
        "print('\\nRandom Categorical Sample:',rand_cat)"
      ],
      "execution_count": null,
      "outputs": [
        {
          "output_type": "stream",
          "name": "stdout",
          "text": [
            "Standard Normal Sample: [ 0.49671415 -0.1382643   0.64768854  1.52302986 -0.23415337 -0.23413696\n",
            "  1.57921282  0.76743473 -0.46947439  0.54256004]\n",
            "\n",
            "Beta(1,1) Sample: [0.4978376  0.36699967 0.59729045 0.81434157 0.44364733 0.27969111\n",
            " 0.92729229 0.78083675 0.7572072  0.19772398]\n",
            "\n",
            "Random Categorical Sample: ['C' 'C' 'B' 'A' 'B' 'B' 'B' 'B' 'B' 'B']\n"
          ]
        }
      ]
    },
    {
      "cell_type": "markdown",
      "metadata": {
        "id": "LhnfCuYUainf"
      },
      "source": [
        "<br>\n",
        "\n",
        "<br>\n",
        "\n",
        "<br>\n",
        "\n",
        "# __QUESTIONS? (About anything)__\n",
        "\n",
        "Let's take a 5 min break before part II...."
      ]
    },
    {
      "cell_type": "markdown",
      "metadata": {
        "id": "rVcLqCGWbDgs"
      },
      "source": [
        "<br>\n",
        "\n",
        "<br>\n",
        "\n",
        "# __6. Linear Regression Example__\n",
        "- To showcase the power of `numpy`, I've simulated some data and fit a linear regression model (mostly from scratch).\n",
        "- The dataset consists of 100 observations that follow the following relationship: $y_i = f(x_i) + \\epsilon_i$\n",
        "- In this case:\n",
        "    - $x_i$ are IID from a $Unif(-50,50)$ distribution\n",
        "    - $\\epsilon_i$ are IID from $N(\\mu = 0, \\sigma = 3)$\n",
        "    - $f(x) = sin(2\\pi x) + x  + \\epsilon$ (in vector notation)\n",
        "- Obviously linear regression is not the best choice of model here, but it does have a closed form solution:\n",
        "    - If I assume a model of $y = X\\beta + \\epsilon$\n",
        "    - Then the OLS solution is $\\hat{\\beta} = (X^T X)^{-1} X^T y$, which is closed form, and can be computed easily in numpy"
      ]
    },
    {
      "cell_type": "code",
      "metadata": {
        "colab": {
          "base_uri": "https://localhost:8080/",
          "height": 295
        },
        "id": "R3ciRfx-eGOb",
        "outputId": "573dcdb3-a0b3-4e8d-90e6-43444201f8d3"
      },
      "source": [
        "np.random.seed(50)\n",
        "\n",
        "# Simulate the data\n",
        "def simulate_data(sample_size):\n",
        "  # Generate features\n",
        "  x = np.random.uniform(-10,10,size=sample_size)\n",
        "  x = np.reshape(x,newshape=(sample_size,1))\n",
        "  # print('shape of x:',x.shape)\n",
        "  # Generate errors\n",
        "  eps = np.random.normal(0,3,size = sample_size)\n",
        "  eps = np.reshape(eps, newshape=(sample_size,1))\n",
        "  # print('shape of eps:',eps.shape)\n",
        "  # Generate response (including error)\n",
        "  y = np.sin(2*np.pi*x) + x + eps\n",
        "\n",
        "  # Add leading column of ones for intercept\n",
        "  lead_ones = np.ones((sample_size,1))\n",
        "  \n",
        "  X = np.concatenate([lead_ones,x],axis=1) \n",
        "  # Note that cap x is different from lower x\n",
        "  # print(X.shape)\n",
        "  # print(y.shape)\n",
        "  return X,y\n",
        "\n",
        "def LinearRegression(data):\n",
        "  '''\n",
        "  A function that performs linear regression, returning\n",
        "  useful information\n",
        "  input: data - an (X,y) tuple representing features\n",
        "  and their corresponding labels\n",
        "  output: A tuple containing coefficients and fitted values\n",
        "  '''\n",
        "  X = data[0]\n",
        "  y = data[1]\n",
        "  # First part of OLS solution\n",
        "  hmat = np.linalg.inv(np.dot(X.T,X))\n",
        "  # Second part of OLS solution\n",
        "  normmat = np.dot(X.T,y)\n",
        "  # Generated beta_hats according to above closed-form solution\n",
        "  coefs = np.dot(hmat,normmat)\n",
        "\n",
        "  # Generate fitted values\n",
        "  fitted_values = np.dot(X,coefs)\n",
        "  \n",
        "  # Return information\n",
        "  return fitted_values, coefs\n",
        "\n",
        "\n",
        "import matplotlib.pyplot as plt\n",
        "\n",
        "# Let's plot a visual (line of best fit) as well\n",
        "def plot_lobf(data,fitted_values):\n",
        "  '''Return a plot containing the original data\n",
        "  along with a curve of best fit.\n",
        "  Inputs: data - A data tuple (X,y)\n",
        "  fitted_values - The fitted values of your model\n",
        "  Outputs: A matplotlib graph object\n",
        "  '''\n",
        "  # Extract features (without leading ones)\n",
        "  x = data[0][:,1]\n",
        "  # Extract targets (y values)\n",
        "  t = data[1]\n",
        "  # Plot data\n",
        "  plt.plot(x,t,'o')\n",
        "  # plot line of best fit\n",
        "  plt.plot(x,fitted_values,'-')\n",
        "  plt.xlabel('predictor')\n",
        "  plt.ylabel('response')\n",
        "  plt.title('Linear regression on Simulated Sinusoidal Features')\n",
        "  # Show the plot\n",
        "  plt.show()\n",
        "\n",
        "# Execute simulation\n",
        "data = simulate_data(100)\n",
        "# Execute model fit\n",
        "model_fit,_ = LinearRegression(data)\n",
        "# Plot result\n",
        "plot_lobf(data,model_fit)\n",
        "\n",
        "  \n"
      ],
      "execution_count": null,
      "outputs": [
        {
          "output_type": "display_data",
          "data": {
            "image/png": "[encoded data removed]",
            "text/plain": [
              "<Figure size 432x288 with 1 Axes>"
            ]
          },
          "metadata": {
            "needs_background": "light"
          }
        }
      ]
    },
    {
      "cell_type": "markdown",
      "metadata": {
        "id": "3CC8u-VFnI7X"
      },
      "source": [
        "Even this simple linear model appears to do a decent job of fitting our simulated dataset\n",
        "- You can code this model and the simulation from scratch in very little time, with very little code"
      ]
    }
  ]
}